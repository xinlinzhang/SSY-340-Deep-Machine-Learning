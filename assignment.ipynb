{
 "cells": [
  {
   "cell_type": "markdown",
   "metadata": {},
   "source": [
    "# CL1 - Assignment"
   ]
  },
  {
   "cell_type": "markdown",
   "metadata": {},
   "source": [
    "This assignment consists of 5 exercises. For each exercise, you are given a task and sometimes a skeleton code to start with. If a skeleton code is provided, use it (i.e. if a function definition is given, as in the first exercise, you shouldn't change the name of the function). You are of course allowed to create additional helper functions and call those in the body of the requested function.\n",
    "\n",
    "For some of the tasks, we have provided automated tests for you to ensure that your function behaves correctly. It's optional to use them, but it can help to spot errors in your tasks before you hand them in. If you want to use them, simply run the cell that says \"`Check your function automatically here (...)`\". If your code is correct, no errors will occur.\n",
    "\n",
    "We expect you to search and learn by yourself any commands you think are useful for these tasks. Don't limit yourself to only what was taught in CL1. Use the `help` function, stackoverflow, google and the python documentation to your advantage."
   ]
  },
  {
   "cell_type": "markdown",
   "metadata": {},
   "source": [
    "### 1. The first `n` Fibonacci numbers\n",
    "\n",
    "Create a function that returns a list with the first `n` [fibonacci numbers](https://en.wikipedia.org/wiki/Fibonacci_number). This function should work for any `n` (although it's ok if it has a bad [asymptotic time complexity](https://en.wikipedia.org/wiki/Asymptotic_computational_complexity), that is, don't worry about optimizing it too much)."
   ]
  },
  {
   "cell_type": "code",
   "execution_count": 190,
   "metadata": {
    "collapsed": true
   },
   "outputs": [],
   "source": [
    "# Define your function here\n",
    "def first_n_fibonacci(n):\n"
   ]
  },
  {
   "cell_type": "code",
   "execution_count": 1,
   "metadata": {},
   "outputs": [],
   "source": [
    "# Check your function manually here\n"
   ]
  },
  {
   "cell_type": "code",
   "execution_count": null,
   "metadata": {
    "collapsed": true
   },
   "outputs": [],
   "source": [
    "# Check your function automatically here by running this cell (if you get an AssertionError, there's probably something wrong with your function)\n",
    "first_30_fibs = [0, 1, 1, 2, 3, 5, 8, 13, 21, 34, 55, 89, 144, 233, 377, 610, 987, 1597, 2584, 4181, 6765, 10946, 17711, 28657, 46368, 75025, 121393, 196418, 317811, 514229]\n",
    "\n",
    "for i in range(30):\n",
    "    assert(first_n_fibonacci(i) == first_30_fibs[0:i])"
   ]
  },
  {
   "cell_type": "markdown",
   "metadata": {
    "collapsed": true
   },
   "source": [
    "### 2. Multiplying list elements\n",
    "\n",
    "Create a function that accepts as argument a list, and returns a modified version of it, where each element is multiplied by its index. \n",
    "\n",
    "Examples:\n",
    "\n",
    "- **Input**: [1,2,3,4], **Output**: [1\\*0, 2\\*1, 3\\*2, 4\\*3] = [0, 2, 6, 12]\n",
    "- **Input**: [4,-2,-2,0.5], **Output**: [4\\*0, -2\\*1, -2\\*2, 0.5\\*3] = [0, -2, -4, 1.5]\n",
    "- **Input**: ['a', 'b', 'c', 'd'], **Output**: ['a'\\*0, 'b'\\*1, 'c'\\*2, 'd'\\*3] = ['', 'b', 'cc', 'ddd']\n",
    "\n",
    "**Important**: The list passed as argument *must not* change when calling the function. That is, after the following code is run:\n",
    "    \n",
    "    a = [1,2,3,4]\n",
    "    b = mult_by_index(a)\n",
    "    \n",
    "the elements of `a` must still be `[1,2,3,4]`."
   ]
  },
  {
   "cell_type": "code",
   "execution_count": 19,
   "metadata": {
    "collapsed": true
   },
   "outputs": [],
   "source": [
    "# Define your function here\n",
    "def mult_by_index(li):\n",
    "    "
   ]
  },
  {
   "cell_type": "code",
   "execution_count": 200,
   "metadata": {
    "collapsed": true
   },
   "outputs": [],
   "source": [
    "# Check your function manually here\n"
   ]
  },
  {
   "cell_type": "code",
   "execution_count": 201,
   "metadata": {
    "collapsed": true
   },
   "outputs": [],
   "source": [
    "# Check your function automatically here by running this cell\n",
    "assert(mult_by_index([0, 8, 8, -2, 2, 8, -9]) == [0, 8, 16, -6, 8, 40, -54]) \n",
    "assert(mult_by_index([-3, 4, -4, -9, -6, -8, -6]) == [0, 4, -8, -27, -24, -40, -36]) \n",
    "assert(mult_by_index([-10, -10, 1, -5, 3, 6]) == [0, -10, 2, -15, 12, 30]) \n",
    "assert(mult_by_index([-5, -9, -8]) == [0, -9, -16]) \n",
    "assert(mult_by_index([9, 8, -2, -6]) == [0, 8, -4, -18]) \n",
    "assert(mult_by_index([0, 6]) == [0, 6]) \n",
    "assert(mult_by_index([-6, 3, 0, -7, 7]) == [0, 3, 0, -21, 28]) \n",
    "assert(mult_by_index([-3, -3]) == [0, -3]) \n",
    "assert(mult_by_index([5, 0, 4, 9]) == [0, 0, 8, 27]) \n",
    "assert(mult_by_index([6, 2, 5, -9, 2, -1, 4, 9]) == [0, 2, 10, -27, 8, -5, 24, 63]) \n",
    "assert(mult_by_index([]) == [])\n",
    "assert(mult_by_index(['a']) == [''])\n",
    "assert(mult_by_index(['a', 'b']) == ['', 'b'])\n",
    "assert(mult_by_index(['a', 'b', 'c']) == ['', 'b', 'cc'])\n",
    "assert(mult_by_index(['a', 'b', 'c', 'd']) == ['', 'b', 'cc', 'ddd'])\n",
    "assert(mult_by_index([True, True, False]) == [False, True, False])\n",
    "assert(mult_by_index([False, False, True]) == [0, 0, 2])\n",
    "a = [1,2,3,4]\n",
    "mult_by_index(a)\n",
    "assert(a == [1,2,3,4])"
   ]
  },
  {
   "cell_type": "markdown",
   "metadata": {},
   "source": [
    "### 3. Contatenating lists\n",
    "\n",
    "Create a function that receives a list as an optional argument, and returns a list which is the original list concatenated with `['P','Y','T','H','O','N']`. If an empty list is provided, or if no list is provided, the output should simply be `['P','Y','T','H','O','N']`. \n",
    "\n",
    "Examples:\n",
    "- **Input**: `concatenate_list([1,2,3])`, **Output**: `[1,2,3,'P','Y','T','H','O','N']`\n",
    "- **Input**: `concatenate_list([True, 1.1, -2])`, **Output**: `[True,1.1,-2,'P','Y','T','H','O','N']`\n",
    "- **Input**: `concatenate_list([])`, **Output**: `['P','Y','T','H','O','N']`\n",
    "- **Input**: `concatenate_list()`, **Output**: `['P','Y','T','H','O','N']`"
   ]
  },
  {
   "cell_type": "code",
   "execution_count": null,
   "metadata": {
    "collapsed": true
   },
   "outputs": [],
   "source": [
    "# Write your function definition here (also specify it(s) argument(s))\n",
    "def concatenate_list( ... ):\n",
    "    "
   ]
  },
  {
   "cell_type": "code",
   "execution_count": 203,
   "metadata": {
    "collapsed": true
   },
   "outputs": [],
   "source": [
    "# Check your function manually here\n"
   ]
  },
  {
   "cell_type": "code",
   "execution_count": null,
   "metadata": {
    "collapsed": true
   },
   "outputs": [],
   "source": [
    "# Check your function automatically here by running this cell\n",
    "assert(concatenate_list([1, 2, 3]) == [1, 2, 3, 'P', 'Y', 'T', 'H', 'O', 'N'])\n",
    "assert(concatenate_list([1, 2, 3, 4]) == [1, 2, 3, 4, 'P', 'Y', 'T', 'H', 'O', 'N'])\n",
    "assert(concatenate_list([]) == ['P', 'Y', 'T', 'H', 'O', 'N'])\n",
    "assert(concatenate_list([-1, True, False]) == [-1, True, False, 'P', 'Y', 'T', 'H', 'O', 'N'])\n",
    "assert(concatenate_list(['1', 'True', True]) == ['1', 'True', True, 'P', 'Y', 'T', 'H', 'O', 'N'])"
   ]
  },
  {
   "cell_type": "markdown",
   "metadata": {},
   "source": [
    "### 4. Creating a simple class\n",
    "\n",
    "Create a `Person` class with four attributes:\n",
    "\n",
    "- age (expected to be a number)\n",
    "- sex (expected to be a single character, 'M' for male, 'F' for female)\n",
    "- name (expected to be a string)\n",
    "- spouse_name (expected to be a string)\n",
    "\n",
    "And three methods:\n",
    "\n",
    "- `__init__`: for initialization of the instance attributes with user-supplied values (and also responsible for checking that the user-supplied values agree with the expected range of values for each attribute). The attribute `spouse_name` is always initialized to the empty string `''`, and supplying a value for the `name` attribute should be optional. If no name is provided, this function should initialize the `name` attribute to either 'John Doe' or 'Jane Doe', depending on the `sex` attribute.\n",
    "\n",
    "- `marry`: expects as argument a `Person` object. Alters the `spouse_name` attribute of *both* instances accordingly.\n",
    "\n",
    "- `greet`: prints the following message: `\"Hello, my name is <name>. I'm a <age> years old <man/woman>.\"`. Substitute `<name>` and `<age>` with the attribute values, and decide if 'man' or 'woman' should be printed depending on the `<sex>` attribute. Furthermore, if the instance has a nonempty `spouse_name` attribute, it should also print in a new line the following message: `\"I am married to <spouse_name>.\"`.\n",
    "\n"
   ]
  },
  {
   "cell_type": "code",
   "execution_count": 8,
   "metadata": {
    "collapsed": true
   },
   "outputs": [],
   "source": [
    "# Define your class here\n",
    "class Person:\n",
    "    "
   ]
  },
  {
   "cell_type": "code",
   "execution_count": null,
   "metadata": {
    "collapsed": true
   },
   "outputs": [],
   "source": [
    "# Test your class manually here\n"
   ]
  },
  {
   "cell_type": "code",
   "execution_count": 9,
   "metadata": {},
   "outputs": [
    {
     "name": "stdout",
     "output_type": "stream",
     "text": [
      "Before marriage: \n",
      "Hello, my name is Jane Doe. I'm a 27 yeas old woman.\n",
      "Hello, my name is Carl. I'm a 30 yeas old man.\n",
      "\n",
      "After marriage: \n",
      "Hello, my name is Jane Doe. I'm a 27 yeas old woman.\n",
      "I am married to Carl.\n",
      "Hello, my name is Carl. I'm a 30 yeas old man.\n",
      "I am married to Jane Doe.\n"
     ]
    }
   ],
   "source": [
    "# This cell shows the expected output when using the class you'll design. \n",
    "#\n",
    "# Note: you should probably not run this cell, since its output will obviously change. If you want to test \n",
    "# that your class exhibts the same behavior as shown here, copy and paste this code in another cell and run it from\n",
    "# there instead.\n",
    "\n",
    "jane = Person(27, 'F')\n",
    "carl = Person(30, 'M', 'Carl')\n",
    "\n",
    "print(\"Before marriage: \")\n",
    "jane.greet()\n",
    "carl.greet()\n",
    "\n",
    "carl.marry(jane)\n",
    "\n",
    "print(\"\\nAfter marriage: \")\n",
    "jane.greet()\n",
    "carl.greet()"
   ]
  },
  {
   "cell_type": "markdown",
   "metadata": {},
   "source": [
    "### 5. Visualizing randomness"
   ]
  },
  {
   "cell_type": "markdown",
   "metadata": {},
   "source": [
    "Instructions for this task: \n",
    "\n",
    "- Create a figure with a 2x2 grid of axes in it. \n",
    "- In the axes at position [1,0], plot a scatter plot of 1k samples taken from a multivariate normal distribution with mean [-2, 3] and covariance matrix [[1 2], [0 2]].\n",
    "- In the axes at position [0,0], plot a histogram of the \"x-values\" of the samples you created (i.e. dimension 0 of each 2D vector you sampled).\n",
    "- In the axes at position [1,1], plot a histrogram of the \"y-values\" of the same samples (i.e. dimension 1 of each 2D vector).\n",
    "- Delete the axes at position [0,1].\n",
    "\n",
    "\n",
    "Specifications:\n",
    "- Figure size should be 12 x 8 inches.\n",
    "- The scatter plot should have a grid in it.\n",
    "- The title of the scatter plot should be 'Scatter plot'.\n",
    "- The title of the histogram plot in x should be 'Histogram in x'.\n",
    "- The title of the histogram plot in y should be 'Histogram in y'.\n",
    "- The histogram plot in y (the plot in axes [1,1]), should be oriented horizontally (i.e. the bins in the y-axis, the frequencies in the x-axis).\n",
    "\n",
    "Hints: \n",
    "- The submodule `random` in numpy has a function named `multivariate_normal`. That might prove to be useful.\n",
    "- The `hist` method, used to plot histograms, can take an argument named `orientation`.\n",
    "- `figure` objects have a method that lets you delete a given `axes` object in them.\n"
   ]
  },
  {
   "cell_type": "code",
   "execution_count": 10,
   "metadata": {},
   "outputs": [
    {
     "data": {
      "image/png": "[encoded data removed]",
      "text/plain": [
       "<matplotlib.figure.Figure at 0x7f52c3830e10>"
      ]
     },
     "execution_count": 10,
     "metadata": {},
     "output_type": "execute_result"
    }
   ],
   "source": [
    "# Expected output. (don't run this cell)"
   ]
  },
  {
   "cell_type": "code",
   "execution_count": 11,
   "metadata": {
    "collapsed": true
   },
   "outputs": [],
   "source": [
    "# Write your code here.\n"
   ]
  }
 ],
 "metadata": {
  "kernelspec": {
   "display_name": "Python 3",
   "language": "python",
   "name": "python3"
  },
  "language_info": {
   "codemirror_mode": {
    "name": "ipython",
    "version": 3
   },
   "file_extension": ".py",
   "mimetype": "text/x-python",
   "name": "python",
   "nbconvert_exporter": "python",
   "pygments_lexer": "ipython3",
   "version": "3.5.4"
  }
 },
 "nbformat": 4,
 "nbformat_minor": 2
}
